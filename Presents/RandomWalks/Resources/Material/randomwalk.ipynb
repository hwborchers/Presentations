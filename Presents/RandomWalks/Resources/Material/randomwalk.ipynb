{
 "cells": [
  {
   "cell_type": "markdown",
   "metadata": {},
   "source": [
    "## Example: Random Walk"
   ]
  },
  {
   "cell_type": "markdown",
   "metadata": {},
   "source": [
    "### with R"
   ]
  },
  {
   "cell_type": "code",
   "execution_count": 18,
   "metadata": {},
   "outputs": [],
   "source": [
    "rwalk <- function(N) {\n",
    "    result <- rep(NA, N)\n",
    "    for (i in 1:N) {\n",
    "        steps <- 1\n",
    "        a <- if (runif(1) >= 0.5) 1 else -1\n",
    "        while (a != 0) {\n",
    "            steps <- steps + 1\n",
    "            a <- a + if (runif(1) >= 0.5) 1 else -1\n",
    "            if (steps >= 10^6) break\n",
    "        }\n",
    "        result[i] <- steps\n",
    "    }\n",
    "    result\n",
    "}"
   ]
  },
  {
   "cell_type": "code",
   "execution_count": 23,
   "metadata": {},
   "outputs": [
    {
     "data": {
      "text/plain": [
       "   user  system elapsed \n",
       " 29.811   0.003  29.854 "
      ]
     },
     "metadata": {},
     "output_type": "display_data"
    }
   ],
   "source": [
    "set.seed(9753)\n",
    "system.time(no_steps_R <- rwalk(10000))"
   ]
  },
  {
   "cell_type": "code",
   "execution_count": 24,
   "metadata": {
    "scrolled": true
   },
   "outputs": [
    {
     "data": {
      "text/html": [
       "1e+06"
      ],
      "text/latex": [
       "1e+06"
      ],
      "text/markdown": [
       "1e+06"
      ],
      "text/plain": [
       "[1] 1e+06"
      ]
     },
     "metadata": {},
     "output_type": "display_data"
    },
    {
     "data": {
      "text/html": [
       "1557.4192"
      ],
      "text/latex": [
       "1557.4192"
      ],
      "text/markdown": [
       "1557.4192"
      ],
      "text/plain": [
       "[1] 1557.419"
      ]
     },
     "metadata": {},
     "output_type": "display_data"
    },
    {
     "data": {
      "text/html": [
       "2"
      ],
      "text/latex": [
       "2"
      ],
      "text/markdown": [
       "2"
      ],
      "text/plain": [
       "[1] 2"
      ]
     },
     "metadata": {},
     "output_type": "display_data"
    },
    {
     "data": {
      "text/html": [
       "15574192"
      ],
      "text/latex": [
       "15574192"
      ],
      "text/markdown": [
       "15574192"
      ],
      "text/plain": [
       "[1] 15574192"
      ]
     },
     "metadata": {},
     "output_type": "display_data"
    }
   ],
   "source": [
    "\n",
    "max(no_steps_R); mean(no_steps_R); median(no_steps_R); sum(no_steps_R)"
   ]
  },
  {
   "cell_type": "code",
   "execution_count": 21,
   "metadata": {},
   "outputs": [
    {
     "data": {
      "image/png": "[encoded data removed]",
      "text/plain": [
       "Plot with title “Histogram of log(no_steps_R)”"
      ]
     },
     "metadata": {},
     "output_type": "display_data"
    }
   ],
   "source": [
    "hist(log(no_steps_R), col=\"gray\")"
   ]
  },
  {
   "cell_type": "markdown",
   "metadata": {},
   "source": [
    "### with JavaScript"
   ]
  },
  {
   "cell_type": "code",
   "execution_count": 5,
   "metadata": {},
   "outputs": [
    {
     "ename": "ERROR",
     "evalue": "Error in library(V8): there is no package called ‘V8’\n",
     "output_type": "error",
     "traceback": [
      "Error in library(V8): there is no package called ‘V8’\nTraceback:\n",
      "1. library(V8)",
      "2. stop(txt, domain = NA)"
     ]
    }
   ],
   "source": [
    "library(V8)\n",
    "js <- v8()"
   ]
  },
  {
   "cell_type": "code",
   "execution_count": null,
   "metadata": {
    "collapsed": true
   },
   "outputs": [],
   "source": [
    "js$eval(\"\n",
    "function rwalk(N) {                                    //  rwalk = function(N) {\n",
    "    var result = new Array(N)                          //      result = rep(NA, N)\n",
    "    var a = 0, steps                                   //      a = 0\n",
    "    for (var i = 0; i < N; i++) {                      //      for (i in 1:N) {\n",
    "        steps = 1                                      //          steps = 1\n",
    "        if (Math.random() >= 0.5) {++a} else {--a}     //          if (runif(1) >= 0.5) {a = a+1} else {a = a-1}\n",
    "        while (a != 0) {                               //          while (a != 0) {\n",
    "            steps += 1                                 //              steps = steps + 1\n",
    "            if (Math.random() >= 0.5) {++a} else {--a} //              if (runif(1) >= 0.5) {a = a+1} else {a = a-1}\n",
    "        }                                              //          }\n",
    "        result[i] = steps                              //          result[i] = steps\n",
    "    }                                                  //      }\n",
    "    return result                                      //      return(result)\n",
    "}                                                      //  }\n",
    "\")"
   ]
  },
  {
   "cell_type": "code",
   "execution_count": null,
   "metadata": {
    "collapsed": true
   },
   "outputs": [],
   "source": [
    "system.time(\n",
    "js$eval(\"\n",
    "var no_steps_JS\n",
    "no_steps_JS = rwalk(2500)\n",
    "undefined\n",
    "\")\n",
    ")"
   ]
  },
  {
   "cell_type": "code",
   "execution_count": null,
   "metadata": {
    "collapsed": true
   },
   "outputs": [],
   "source": [
    "no_steps_JS <- js$get(\"no_steps_JS\")"
   ]
  },
  {
   "cell_type": "code",
   "execution_count": null,
   "metadata": {
    "collapsed": true,
    "scrolled": true
   },
   "outputs": [],
   "source": [
    "mean(no_steps_JS); median(no_steps_JS); sum(no_steps_JS)"
   ]
  },
  {
   "cell_type": "code",
   "execution_count": null,
   "metadata": {
    "collapsed": true
   },
   "outputs": [],
   "source": [
    "hist(log(no_steps_JS), col=\"grey\")"
   ]
  },
  {
   "cell_type": "code",
   "execution_count": null,
   "metadata": {
    "collapsed": true
   },
   "outputs": [],
   "source": [
    "r_R  <- rle(sort(no_steps_R))\n",
    "r_JS <- rle(sort(no_steps_JS))\n",
    "r_JS"
   ]
  },
  {
   "cell_type": "code",
   "execution_count": null,
   "metadata": {
    "collapsed": true,
    "scrolled": false
   },
   "outputs": [],
   "source": [
    "x_R  <- c(1, r_R$values)\n",
    "x_JS <- c(1, r_JS$values)\n",
    "w_R  <- c(0, cumsum(r_R$lengths)/sum(r_R$length))\n",
    "w_JS <- c(0, cumsum(r_JS$lengths)/sum(r_JS$length))\n",
    "\n",
    "plot(c(0, 400), c(0,1), type='n'); grid()\n",
    "lines(x_R[1:100], w_R[1:100], col=\"blue\")\n",
    "lines(x_JS[1:150], w_JS[1:150], col=\"red\")\n",
    "abline(h = 0.95, col=\"gray\")"
   ]
  },
  {
   "cell_type": "code",
   "execution_count": null,
   "metadata": {
    "collapsed": true
   },
   "outputs": [],
   "source": [
    "i_R <- which(w_R >= 0.95)[1]\n",
    "i1 = i_R - 1; i2 = i_R\n",
    "w1 = w_R[i1]; w2 = w_R[i2]\n",
    "x_R[round(i1 + w1/w2*(0.95 - w1))]\n",
    "\n",
    "i_JS <- which(w_JS >= 0.95)[1]\n",
    "i1 = i_JS - 1; i2 = i_JS\n",
    "w1 = w_JS[i1]; w2 = w_JS[i2]\n",
    "x_JS[round(i1 + w1/w2*(0.95 - w1))]"
   ]
  },
  {
   "cell_type": "markdown",
   "metadata": {},
   "source": [
    "### Theory"
   ]
  },
  {
   "cell_type": "markdown",
   "metadata": {},
   "source": [
    "The probability for returning to 0 for the first time after $n$ steps is:\n",
    "$$\n",
    "    P(W = 2n) = {2(n-1) \\choose n-1} \\frac{1}{2^{2(n-1)}} \\frac{1}{2n}\n",
    "$$"
   ]
  },
  {
   "cell_type": "code",
   "execution_count": 1,
   "metadata": {
    "scrolled": true
   },
   "outputs": [
    {
     "data": {
      "image/png": "[encoded data removed]",
      "text/plain": [
       "plot without title"
      ]
     },
     "metadata": {},
     "output_type": "display_data"
    }
   ],
   "source": [
    "n = 1:128\n",
    "a = choose(2*(n-1), n-1)/2^(2*(n-1))/(2*n)\n",
    "x = c(0, 2*n)\n",
    "w = c(0, cumsum(a))\n",
    "\n",
    "plot(c(0, 400), c(0,1), type='n'); grid()\n",
    "lines(x, w, col=\"darkgray\", lwd=3)\n",
    "# lines(x_JS[1:150], w_JS[1:150], col=\"red\")\n",
    "abline(h = 0.95, col=\"gray\")"
   ]
  },
  {
   "cell_type": "code",
   "execution_count": 17,
   "metadata": {},
   "outputs": [
    {
     "data": {
      "text/html": [
       "0.975023387795142"
      ],
      "text/latex": [
       "0.975023387795142"
      ],
      "text/markdown": [
       "0.975023387795142"
      ],
      "text/plain": [
       "[1] 0.9750234"
      ]
     },
     "metadata": {},
     "output_type": "display_data"
    }
   ],
   "source": [
    "require(gmp)\n",
    "n2 <- as.bigz(2)\n",
    "s <- 0.0\n",
    "for (m in 1:510) {\n",
    "    n <- as.bigz(m)\n",
    "    a <- chooseZ(n2*(n-1), n-1) / (n2^(n2*(n-1)) * n2 * n)\n",
    "    s <- s + as.numeric(a)\n",
    "}\n",
    "s"
   ]
  },
  {
   "cell_type": "markdown",
   "metadata": {
    "collapsed": true
   },
   "source": [
    "So theoretically there are 1020 steps to have a 97.5 percent chance of returning."
   ]
  }
 ],
 "metadata": {
  "@webio": {
   "lastCommId": "39260392c70f490688673b8a8bc6f8fd",
   "lastKernelId": "efec9e5a-b45f-43b1-a2dc-868258ffc86e"
  },
  "anaconda-cloud": {},
  "kernelspec": {
   "display_name": "R",
   "language": "R",
   "name": "ir"
  },
  "language_info": {
   "codemirror_mode": "r",
   "file_extension": ".r",
   "mimetype": "text/x-r-source",
   "name": "R",
   "pygments_lexer": "r",
   "version": "3.5.2"
  }
 },
 "nbformat": 4,
 "nbformat_minor": 2
}
