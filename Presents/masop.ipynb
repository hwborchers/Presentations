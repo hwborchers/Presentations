{
 "cells": [
  {
   "cell_type": "markdown",
   "metadata": {},
   "source": [
    "# An Example in Constraint Optimization"
   ]
  },
  {
   "cell_type": "markdown",
   "metadata": {},
   "source": [
    "## Introduction"
   ]
  },
  {
   "cell_type": "markdown",
   "metadata": {},
   "source": [
    "The task is to manage energy consumption for a local site, for example a neighborhood of households or an industrial area. The *predicted* gas consumption for the next 72 hours (3 days) is given in the following vector, say in cubic meters or similar."
   ]
  },
  {
   "cell_type": "code",
   "execution_count": null,
   "metadata": {},
   "outputs": [],
   "source": [
    "T <- 1:72\n",
    "P <- c( 96.6, 96, 98.4, 99.1, 98, 100.6, 100.7, 99.4, 99.5, 98.9, 98, 98.3, 96.3, \n",
    "        98.4, 95.5, 95.3, 95.8, 94.6, 94.4, 93.8, 95.2, 94, 96.6, 98.2, 96.7, 99.2, \n",
    "        100.6, 98.6, 99.4, 102, 101.3, 102.5, 102.5, 102.1, 102.2, 100.9, 100.8, \n",
    "        97.6, 98.1, 97.4, 95.4, 96.9, 95.3, 97.7, 95.5, 97, 96.9, 96, 95.3, 98, \n",
    "        97.6, 99.7, 99.9, 101.2, 100, 98.6, 99.2, 97.4, 97.7, 97.1, 96.5, 95.5, \n",
    "        96.4, 93, 95, 95.4, 95.3, 95.4, 95.3, 96.4, 96.9, 96.7)"
   ]
  },
  {
   "cell_type": "markdown",
   "metadata": {},
   "source": [
    "The following plot displays this prediction as a step curve. The local supplier of energy buys gas from a global supplier. The contract says he will get up to 100 [m^3] per hour to a fixed price, if more gas is consumed the price will go up significantly. The red line marks this upper limit.\n"
   ]
  },
  {
   "cell_type": "code",
   "execution_count": null,
   "metadata": {},
   "outputs": [],
   "source": [
    "plot(c(0, 72), c(90, 105), type = \"n\",\n",
    "    main = \"Predicted gas consumption\", xlab = \"Time\", ylab = \"Gas\")\n",
    "grid(); abline(h = 100, col = \"red\")\n",
    "lines(T, P, col = \"green\", type = \"s\", lwd = 2)"
   ]
  },
  {
   "cell_type": "markdown",
   "metadata": {},
   "source": [
    "To avoid these extra costs the local provider will employ some kind of gas storage, e.g. a gas tank (or the so-called \"net aspiration\"). When gas consumption in the area is low, the tank can be filled, and when consumption is greater than 100 the gas storage will be used to contribute the missing amount.\n",
    "\n",
    "Of course, the gas storage facility has some technical constraints that need to be taken into account. The maximum amount of gas to be stored in the tank shall be 10 [m^3], so the actual amount of gas in the tank will vary between 0 and 10. Also, the amount of gas that will be pumped in or taken out has be less or equal to 5 [m^3] per hour."
   ]
  },
  {
   "cell_type": "markdown",
   "metadata": {
    "collapsed": true
   },
   "source": [
    "Imagine the *planned* amount of gas bought from the global supplier is "
   ]
  },
  {
   "cell_type": "code",
   "execution_count": null,
   "metadata": {},
   "outputs": [],
   "source": [
    "P0 <- c(\n",
    "100.0, 100.0, 100.0, 100.0, 100.0, 100.0, 100.0, 100.0, 100.0,  99.2,  98.0,  98.3,\n",
    " 96.3,  98.4,  95.5,  95.3,  95.8,  94.6,  94.4,  93.8,  95.2,  94.0,  96.6,  98.2,\n",
    " 96.7,  99.2, 100.0,  99.2,  99.4, 100.0, 100.0, 100.0, 100.0, 100.0, 100.0, 100.0,\n",
    "100.0, 100.0, 100.0, 100.0, 100.0,  99.7,  95.3,  97.7,  95.5,  97.0,  96.9,  96.0,\n",
    " 95.3,  98.0,  97.6,  99.7,  99.9, 100.0, 100.0,  99.8,  99.2,  97.4,  97.7,  97.1,\n",
    " 96.5,  95.5,  96.4,  93.0,  95.0,  95.4,  95.3,  95.4,  95.3,  96.4,  96.9,  96.7)\n"
   ]
  },
  {
   "cell_type": "markdown",
   "metadata": {},
   "source": [
    "then the combined display of predicted and planned gas consumption is shown in the following plot:"
   ]
  },
  {
   "cell_type": "code",
   "execution_count": null,
   "metadata": {},
   "outputs": [],
   "source": [
    "plot(c(0, 72), c(90, 105), type = \"n\",\n",
    "    main = \"Predicted gas consumption\", xlab = \"Time\", ylab = \"Gas\")\n",
    "grid(); abline(h = 100, col = \"red\")\n",
    "lines(T, P, col = \"green\", type = \"s\", lwd = 2)\n",
    "lines(T, P0, col = \"navy\", type = \"s\", lwd = 2, lty = 2)"
   ]
  },
  {
   "cell_type": "markdown",
   "metadata": {},
   "source": [
    "Can this plan be satisfied by utilizing the gas storage available to the local supplier? Assuming the gas tank is half-filled with 5 [m^3], what will be the level in the tank during the planned 72 hours? Obviously, the filling level is calculated as `5 + cumsum(P0 - P)`. So with this planning the tank level varies as follows:"
   ]
  },
  {
   "cell_type": "code",
   "execution_count": null,
   "metadata": {},
   "outputs": [],
   "source": [
    "T0 <- 3 + cumsum(P0 - P)"
   ]
  },
  {
   "cell_type": "markdown",
   "metadata": {},
   "source": [
    "From now on we will plot the (predicted or planned) gas consumption and the level in the gas tank -- i.e. the volume of stored gas -- side by side in one graph. For this *greedy* approach the figure looks as follows:"
   ]
  },
  {
   "cell_type": "code",
   "execution_count": null,
   "metadata": {},
   "outputs": [],
   "source": [
    "plot_gas_solution <- function(T, P, P0, T0) {\n",
    "    par(mfrow = c(2, 1), ann = FALSE, mai = c(0.5, 0.5, 0.25, 0.5))\n",
    "    plot(T, P, type = \"s\", col = \"green\", ylim = c(90, 105)); grid()\n",
    "    lines(T, P0, type = \"s\", col = \"blue\")\n",
    "    plot(T, T0, type = \"s\", col = \"red\", ylim = c(0, 20)); grid()\n",
    "}\n",
    "\n",
    "plot_gas_solution(T, P, P0, T0)"
   ]
  },
  {
   "cell_type": "markdown",
   "metadata": {},
   "source": [
    "We see that the gas tank is completely filled most of the time and that it can handle the problem of a missing gas volume during the 30--40 hours ahead."
   ]
  },
  {
   "cell_type": "markdown",
   "metadata": {},
   "source": [
    "## Problem Formulation"
   ]
  },
  {
   "cell_type": "markdown",
   "metadata": {},
   "source": [
    "The task now is to formulate this as an optimization problem such that, when given a prediction of gas consumption for 72 hours, a purchase plan for buying gas from the global provider will be generated. The plan shall make it possible to never buy more than a certain amount of gas, and the gas tank shall be used in a moderate way."
   ]
  },
  {
   "cell_type": "markdown",
   "metadata": {},
   "source": [
    "#### Decision Variables"
   ]
  },
  {
   "cell_type": "markdown",
   "metadata": {},
   "source": [
    "Let $n$ be the number of time periods, $p_i, i=1, ...,72$ be the predicted consumption values, and $q_i$ the unknown planning values to be optimized during the optimization procedure. "
   ]
  },
  {
   "cell_type": "markdown",
   "metadata": {},
   "source": [
    "How can a feasible starting point `x0` be found? The same way `P0` above was found. That is, immediately fill up the tank and keep it filled as much as possible. If this leads to a non-feasible solution -- because the storage tank is not big enough -- than we know that the whole optimization problem is not solvable. It is a very nice feature of this optimization problem that feasibility can so easily be determined, and if applicable a feasible starting point is constructed."
   ]
  },
  {
   "cell_type": "markdown",
   "metadata": {},
   "source": [
    "#### Constraints"
   ]
  },
  {
   "cell_type": "markdown",
   "metadata": {},
   "source": [
    "The following constants need to be defined:\n",
    "\n",
    "  - $n$, the number of predicted resp. planned time periods.\n",
    "\n",
    "  - $d_0$: initial level of the gas tank.\n",
    "\n",
    "  - $d_1$: maximum level change per time unit.\n",
    "\n",
    "  - $d_2$: maximum level of gas tank (minimum is 0).\n",
    "\n",
    "  - $d_3$: maximum allowed amount of gas from the global supplier."
   ]
  },
  {
   "cell_type": "code",
   "execution_count": null,
   "metadata": {},
   "outputs": [],
   "source": [
    "n <- 72\n",
    "d0 <- 3\n",
    "d1 <- 5\n",
    "d2 <- 15\n",
    "d3 <- 100"
   ]
  },
  {
   "cell_type": "markdown",
   "metadata": {},
   "source": [
    "With these values the constraints are defined as\n",
    "\n",
    "  1. maximum supply to be ordered from the global supplier:  \n",
    "     $$ q_i \\leq d_3 \\qquad \\mathrm{for\\ all} \\; i = 1 \\ldots n $$\n",
    "\n",
    "  1. restricted amount to be taken from or filled into gas tank:\n",
    "     $$ |q_i - p_i| \\le d_1 \\qquad \\mathrm{for\\ all} \\; i = 1 \\ldots n$$\n",
    "\n",
    "  1. level in storage tank restricted by capacity:\n",
    "     $$ 0 \\le d_0 + \\sum_{k=1}^{j} (q_k - p_k) \\leq d_2  \\qquad \\mathrm{for\\ all} \\; j = 1 \\ldots n$$"
   ]
  },
  {
   "cell_type": "markdown",
   "metadata": {},
   "source": [
    "#### Objective"
   ]
  },
  {
   "cell_type": "markdown",
   "metadata": {},
   "source": [
    "The objective function will describe the overall goal that is to be reached.  \n",
    "Four different goals will be considered and compared:\n",
    "\n",
    "  - (**A**) Minimize the sum of differences between predicted and planned purchase of gas from the global supplier:\n",
    "    $$ \\min ! \\sum_{j=1}^n |p_j - q_j| $$\n",
    "\n",
    "  - (**B**) Minimize the sum of squares of these differences:\n",
    "    $$ \\min ! \\sum_{j=1}^n (p_j - q_j)^2 $$\n",
    "    (Larger differences will have a larger influence on the objective.)\n",
    "\n",
    "  - (**C**) Minimize the difference between subsequent supplies:\n",
    "    $$ \\min ! \\sum_{j=1}^{n-1} |q_{j+1} - q_{j}| $$\n",
    "\n",
    "  - (**D**) Minimize usage of the gas tank as much as possible:\n",
    "    $$ \\min ! \\sum_{k=1}^{n} | \\sum_{j=1}^{k} (p_j - q_j)|$$\n",
    "\n",
    "We will see that very different solutions will be returned with each of these objectives. Of course, it is up to the customer of such an optimization package to decide which solution and thus which objective function he prefers.\n"
   ]
  },
  {
   "cell_type": "markdown",
   "metadata": {},
   "source": [
    "The objective functions will be the same for all solvers, so we will define them here."
   ]
  },
  {
   "cell_type": "code",
   "execution_count": null,
   "metadata": {},
   "outputs": [],
   "source": [
    "funA <- function(q) sum(abs(P - q))\n",
    "\n",
    "funB <- function(q) sum((P - q)^2)\n",
    "\n",
    "funC <- function(q) sum(abs(diff(q)))\n",
    "\n",
    "funD <- function(q) sum(abs(cumsum(P - q)))"
   ]
  },
  {
   "cell_type": "markdown",
   "metadata": {},
   "source": [
    "## Nonlinear Optimization Solvers in R"
   ]
  },
  {
   "cell_type": "markdown",
   "metadata": {},
   "source": [
    "The function `constrOptim()` in base R is a solver for nonlinear optimization problems with *linear* constraints. It implements an adaptive logarithmic barrier algorithm, using `optim()` as the underlying solver. Its usage is as follows:\n",
    "\n",
    "```r\n",
    "    constrOptim(theta, f, grad, ui, ci, mu = 1e-04, control = list(),  \n",
    "                method = if (is.null(grad)) \"Nelder-Mead\" else \"BFGS\", \n",
    "                outer.iterations = 100, outer.eps = 1e-05, ..., hessian = FALSE)\n",
    "```\n",
    "\n",
    "But our constraints are nonlinear, so we need a more powerful tool. The appropriate technique here is the *augmented Lagrangian*. Solvers available in R packages that apply this approach are\n",
    "\n",
    "  - nloptr\n",
    "  - alabama\n",
    "  - Rsolnp\n",
    "  - Rdonlp2\n",
    "\n",
    "Unfortunately, different optimization solvers will require to receive the the constraints and objective function in different ways. The following solvers for non-linear constraint optimization will be tried on the problem: 'alabama', 'nloptr'.\n",
    "\n",
    "Because all these solvers are *local* solvers, i.e. will stop in local minima, we will also try a global (or stochastic) solver and compare it with solutions found with local solvers."
   ]
  },
  {
   "cell_type": "markdown",
   "metadata": {},
   "source": [
    "### The *alabama* package"
   ]
  },
  {
   "cell_type": "markdown",
   "metadata": {},
   "source": [
    "Solver `auglag()` in package 'alabama' optimizes smooth nonlinear objective functions with nonlinear constraints. Equality and inequality constraints are allowed. As the problem formulated above does not involve equality constraints, the full power of an augmented Lagrangian approach is not required."
   ]
  },
  {
   "cell_type": "markdown",
   "metadata": {},
   "source": [
    "The general call to `auglag()` looks like this:\n",
    "\n",
    "```r\n",
    "auglag(par, fn, gr, hin, hin.jac, heq, heq.jac, \n",
    "       control.outer=list(), control.optim = list(), ...)\n",
    "```\n",
    "\n",
    "with the following parameters\n",
    "\n",
    "Argument  | Meaning\n",
    "--------- | ----------------------------------------------\n",
    "`par`     | initial vector of variable values  \n",
    "`fn`      | nonlinear objective function\n",
    "`gr`      | gradient of the objective function\n",
    "`hin`     | function specifying the inequality constraints\n",
    "...       | ...\n",
    "\n",
    "And `control.optim` a list of control parameters, the same as those used in `optim()`. The default method is \"BFGS\". At the moment we rely on numerical gradients and jacobians. For more information see `?auglag`."
   ]
  },
  {
   "cell_type": "code",
   "execution_count": null,
   "metadata": {},
   "outputs": [],
   "source": [
    "require(alabama)\n",
    "# ?auglag"
   ]
  },
  {
   "cell_type": "markdown",
   "metadata": {},
   "source": [
    "The constraint inequalities need to be defined through `hin[j] >= 0` for all `j`. Therefore, we define function `hin()` as"
   ]
  },
  {
   "cell_type": "code",
   "execution_count": null,
   "metadata": {},
   "outputs": [],
   "source": [
    "hin <- function(q) {\n",
    "    c(d3 - q,                   # q[i] <= d3\n",
    "      d1 - abs(P - q),          # abs(P - q) <= d1\n",
    "      d0 + cumsum(q - P),       # 0 <= d0 + cumsum(q - P)\n",
    "      d2 - d0 - cumsum(q - P)   # d0 + cumsum(q - P) <= d2\n",
    "    )\n",
    "}"
   ]
  },
  {
   "cell_type": "markdown",
   "metadata": {},
   "source": [
    "#### Objective `funA`"
   ]
  },
  {
   "cell_type": "code",
   "execution_count": null,
   "metadata": {},
   "outputs": [],
   "source": [
    "solA1 <- auglag(par = P0, fn = funA, hin = hin, control.outer = list(trace = FALSE))\n",
    "xA1 <- solA1$par\n",
    "solA1$value"
   ]
  },
  {
   "cell_type": "markdown",
   "metadata": {},
   "source": [
    "Display the solution and the level in the storage tank."
   ]
  },
  {
   "cell_type": "code",
   "execution_count": null,
   "metadata": {},
   "outputs": [],
   "source": [
    "P1 <- solA1$par; T1 <- 3 + cumsum(P1 - P)\n",
    "plot_gas_solution(T, P, P1, T1)"
   ]
  },
  {
   "cell_type": "markdown",
   "metadata": {},
   "source": [
    "In this solution, the level in the gas tank is kept at a minimum and only raised when it is absolutely necessary to provide for peaks in the predicted consumtion. Compare this with a solution to problem (B)."
   ]
  },
  {
   "cell_type": "markdown",
   "metadata": {},
   "source": [
    "#### Objective `funB`"
   ]
  },
  {
   "cell_type": "code",
   "execution_count": null,
   "metadata": {},
   "outputs": [],
   "source": [
    "require(alabama)\n",
    "solB1 <- auglag(par = P0, fn = funB, hin = hin, control.outer = list(trace = FALSE))\n",
    "xB1 <- solB1$par\n",
    "solB1$value"
   ]
  },
  {
   "cell_type": "code",
   "execution_count": null,
   "metadata": {},
   "outputs": [],
   "source": [
    "P2 <- solB1$par; T2 <- 5 + cumsum(P2 - P)\n",
    "plot_gas_solution(T, P, P2, T2)"
   ]
  },
  {
   "cell_type": "markdown",
   "metadata": {},
   "source": [
    "In this solution, the level in the gas tank is only raised slowly and only when it is absolutely necessary to provide for peaks in the predicted consumption."
   ]
  },
  {
   "cell_type": "markdown",
   "metadata": {},
   "source": [
    "#### Objective `funC`"
   ]
  },
  {
   "cell_type": "markdown",
   "metadata": {},
   "source": [
    "For problem type (C) it is the goal to minimize the differences between gas intakes from the global supplier."
   ]
  },
  {
   "cell_type": "code",
   "execution_count": null,
   "metadata": {},
   "outputs": [],
   "source": [
    "require(alabama)\n",
    "solC1 <- auglag(par = P0, fn = funC, hin = hin, control.outer = list(trace = FALSE))\n",
    "xC1 <- solC1$par\n",
    "solC1$value"
   ]
  },
  {
   "cell_type": "code",
   "execution_count": null,
   "metadata": {},
   "outputs": [],
   "source": [
    "P3 <- solC1$par; T3 <- 3 + cumsum(P3 - P)\n",
    "plot_gas_solution(T, P, P3, T3)"
   ]
  },
  {
   "cell_type": "markdown",
   "metadata": {},
   "source": [
    "In this case the level in the gas tank varies quite much."
   ]
  },
  {
   "cell_type": "markdown",
   "metadata": {},
   "source": [
    "#### Objective `funD`"
   ]
  },
  {
   "cell_type": "markdown",
   "metadata": {},
   "source": [
    "For problem type (D) it is the goal to minimize the usage of the gas tank as much as possible."
   ]
  },
  {
   "cell_type": "code",
   "execution_count": null,
   "metadata": {},
   "outputs": [],
   "source": [
    "require(alabama)\n",
    "solD1 <- auglag(par = P0, fn = funD, hin = hin, control.outer = list(trace = FALSE))\n",
    "xD1 <- solD1$par\n",
    "solD1$value"
   ]
  },
  {
   "cell_type": "code",
   "execution_count": null,
   "metadata": {},
   "outputs": [],
   "source": [
    "P4 <- solD1$par; T4 <- 3 + cumsum(P4 - P)\n",
    "plot_gas_solution(T, P, P4, T4)"
   ]
  },
  {
   "cell_type": "markdown",
   "metadata": {},
   "source": [
    "Interestingly, in this case the level in the gas tank is kept to the level it had at the start, is raised if there is a need ahead, and then kept constant at the initial value."
   ]
  },
  {
   "cell_type": "markdown",
   "metadata": {},
   "source": [
    "### The *nloptr* package"
   ]
  },
  {
   "cell_type": "code",
   "execution_count": null,
   "metadata": {},
   "outputs": [],
   "source": [
    "require(nloptr)\n",
    "# ?nloptr::auglag"
   ]
  },
  {
   "cell_type": "code",
   "execution_count": null,
   "metadata": {},
   "outputs": [],
   "source": [
    "( sol <- nloptr::auglag(x0 = P0, fn = funD, hin = hin, localsolver = \"LBFGS\") )"
   ]
  },
  {
   "cell_type": "code",
   "execution_count": null,
   "metadata": {},
   "outputs": [],
   "source": [
    "P5 <- sol$par; T5 <- 3 + cumsum(P5 - P)\n",
    "plot_gas_solution(T, P, P5, T5)"
   ]
  },
  {
   "cell_type": "markdown",
   "metadata": {},
   "source": [
    "This agrees quite exactly with the solution found by `alabama::auglag` !"
   ]
  },
  {
   "cell_type": "markdown",
   "metadata": {},
   "source": [
    "## Some Remarks"
   ]
  },
  {
   "cell_type": "markdown",
   "metadata": {},
   "source": [
    "### Global Solvers"
   ]
  },
  {
   "cell_type": "markdown",
   "metadata": {},
   "source": [
    "There are several global (or: stochastic) solvers in R packages that try to avoid falling into or getting stuck in local minima. There is absolutely no guaranty they will find the global minimum. The problem here with 72 dimensions may anyway be to demanding."
   ]
  },
  {
   "cell_type": "markdown",
   "metadata": {},
   "source": [
    "For realizing constraints for application in global solvers the objective function has to be changed to include the constraints."
   ]
  },
  {
   "cell_type": "code",
   "execution_count": null,
   "metadata": {},
   "outputs": [],
   "source": [
    "funDconstr <- function(q) {\n",
    "    if (# any(q > d3) ||\n",
    "        any(abs(P - q) > d1 + 0.001) ||\n",
    "        any(d0 + cumsum(q - P) < -0.001) || \n",
    "        any(d0 + cumsum(q - P) > d2 + 0.001) ){\n",
    "        v <- Inf\n",
    "    } else {\n",
    "        v <- sum(abs(cumsum(P - q)))\n",
    "    }\n",
    "    v\n",
    "}"
   ]
  },
  {
   "cell_type": "code",
   "execution_count": null,
   "metadata": {},
   "outputs": [],
   "source": [
    "require(DEoptim)\n",
    "# ?DEoptim"
   ]
  },
  {
   "cell_type": "code",
   "execution_count": null,
   "metadata": {},
   "outputs": [],
   "source": [
    "sol <- DEoptim(funDconstr, lower = rep(0, 72), upper = rep(100, 72),\n",
    "                control=DEoptim.control(trace = FALSE))\n",
    "sol$optim"
   ]
  },
  {
   "cell_type": "markdown",
   "metadata": {},
   "source": [
    "We can see that global solvers will have severe problems with constraints if the feasible points are rare in the solution space, or if the best solutions lie on or near the boundary."
   ]
  },
  {
   "cell_type": "markdown",
   "metadata": {},
   "source": [
    "### MATLAB Solution"
   ]
  },
  {
   "cell_type": "markdown",
   "metadata": {},
   "source": [
    "In MATLAB, the standard solver for constrained nonlinear optimization (i.e., 'nonlinear programming') is `fmincon` from the *Optimization Tolbox*. It incorporates **active-set**, **sqp**, **trust-region**, and **interior-point** algorithms."
   ]
  },
  {
   "cell_type": "markdown",
   "metadata": {},
   "source": [
    "The solver `fmincon` is called with the following syntax and parameters:\n",
    "\n",
    "    fmincon(fun,x0,A,b,Aeq,beq,lb,ub,nonlcon)\n",
    "\n",
    "where `obj` is the objective function, `x0` the starting point, `A*x <= b` the linear inequality and `Aeq*x = beq` the linear equality constraints, `lb` and `ub` the lower and upper bounds with `lb <= x <= ub`.  \n",
    "`nonlcon` defines the nonlinear equality and inequality constraints `c(x) <= 0` and `ceq(x) = 0` by returning two vectors `c` and `ceq`: `[c,ceq] = nonlcon(x)`."
   ]
  },
  {
   "cell_type": "markdown",
   "metadata": {},
   "source": [
    "The user interface for a demo system to discuss with engineers and customers was developed utilizing MATLAB's GUI editor and is shown in the following figure."
   ]
  },
  {
   "cell_type": "markdown",
   "metadata": {},
   "source": [
    "![MATLAB solution](matlab.png)"
   ]
  },
  {
   "cell_type": "markdown",
   "metadata": {},
   "source": [
    "One can see in this figure that `fmincon` finds the same solutions as `auglag` in R above.\n",
    "\n",
    "A point to clarify will be what happens when we start with other feasible points."
   ]
  },
  {
   "cell_type": "markdown",
   "metadata": {},
   "source": [
    "### Modeling Language"
   ]
  },
  {
   "cell_type": "markdown",
   "metadata": {},
   "source": [
    "R and MATLAB do not have *optimization modeling languages* that would enable the user to formulate optimization problems independently of what the API of different solvers will require. Commercial programs such as AMPL, GAMS, or Gurobi each have their own (algebraic) modeling languages. Goals for applying a modeling language are, e.g., user friendliness, mathematical notation, solver independence, and getting access to advanced optimization techniques.\n",
    "\n",
    "The following is an AMPL model for our minimization problem with target function `funB`, but extended with a request that the gas tank should be filled up to a level of 5."
   ]
  },
  {
   "cell_type": "markdown",
   "metadata": {},
   "source": [
    "**AMPL Model**\n",
    "\n",
    "    param n > 0 integer;    # n = 72 time units\n",
    "    param p  {i in 1..n};   # predicted consumption\n",
    "\n",
    "    param d0;   # initial gas tank storage\n",
    "    param d1;   # max level change per time unit\n",
    "    param d2;   # max level of gas tank\n",
    "    param d3;   # max amount of gas from supplier\n",
    "\n",
    "    var x {i in 1..n} >= 0; # solution\n",
    "\n",
    "    minimize target:\n",
    "        sum {j in 1..n} (p[j] - x[j]) * (p[j] - x[j]);\n",
    "\n",
    "    subject to rule1 {i in 1..n}: x[i] <= d3;\n",
    "    subject to rule2 {i in 1..n}: abs(x[i] - p[i]) <= d1;\n",
    "    subject to rule3 {j in 1..n}:\n",
    "        sum {k in 1..j} (x[k] - p[k]) <= d2 - d0;\n",
    "    subject to rule4 {j in 1..n}:\n",
    "        sum {k in 1..j} (x[k] - p[k]) >= -d0;\n",
    "\n",
    "**AMPL Data**\n",
    "\n",
    "    param n := 72;\n",
    "\n",
    "    param d0 := 3;\n",
    "    param d1 := 5;\n",
    "    param d2 := 15;\n",
    "    param d3 := 100;\n",
    "\n",
    "    param: p :=\n",
    "        1  96.6  2  96.0 ... 72  96.7;\n",
    "\n",
    "**AMPL Commands**\n",
    "\n",
    "    ampl: option solver minos;\n",
    "    ampl: option minos_options 'iterations_limit=5000 superbasics_limit=100';\n",
    "\n",
    "    ampl: model gas_ex.mod;\n",
    "    ampl: data gas_ex.dat;\n",
    "\n",
    "    ampl: solve;\n",
    "    ampl: display x;"
   ]
  },
  {
   "cell_type": "markdown",
   "metadata": {},
   "source": [
    "Sending this to AMPL will call the MINOS solver on the model and data and will result in the following output:\n",
    "\n",
    "    MINOS 5.51: iterations_limit=5000\n",
    "    superbasics_limit=100\n",
    "    MINOS 5.51: optimal solution found.\n",
    "    237 iterations, objective 38.3316\n",
    "    Nonlin evals: obj = 352, grad = 351, constrs = 352, Jac = 351.\n",
    "\n",
    "    x [*] :=\n",
    "     1  97.108   13  96.808   25  97.208   37 100       49  95.375   61  96.5\n",
    "     2  96.508   14  98.908   26  99.708   38  97.675   50  98.075   62  95.5\n",
    "     3  98.908   15  96.008   27 100       39  98.175   51  97.675   63  96.4\n",
    "     4  99.608   16  95.808   28  99.108   40  97.475   52  99.775   64  93\n",
    "     5  98.508   17  96.308   29  99.908   41  95.475   53  99.975   65  95\n",
    "     6 100       18  95.108   30 100       42  96.975   54 100       66  95.4\n",
    "     7 100       19  94.908   31 100       43  95.375   55 100       67  95.3\n",
    "     8  99.908   20  94.308   32 100       44  97.775   56  98.6     68  95.4\n",
    "     9 100       21  95.708   33 100       45  95.575   57  99.2     69  95.3\n",
    "    10  99.408   22  94.508   34 100       46  97.075   58  97.4     70  96.4\n",
    "    11  98.508   23  97.108   35 100       47  96.975   59  97.7     71  96.9\n",
    "    12  98.808   24  98.708   36 100       48  96.075   60  97.1     72  96.7\n",
    "    ;\n",
    "\n",
    "This corresponds to the solution `P2` that we found above."
   ]
  },
  {
   "cell_type": "markdown",
   "metadata": {},
   "source": [
    "### *rneos*: XML-RPC Interface to NEOS"
   ]
  },
  {
   "cell_type": "markdown",
   "metadata": {
    "collapsed": true
   },
   "source": [
    "> \"Within this package the XML-RPC API to NEOS is implemented. This enables the \n",
    "> user to pass optimization problems to NEOS and retrieve results within R.\"\n",
    "\n",
    "The NEOS Server is an internet-based service for solving numerical optimization problems. It provides free access to more than 60 state-of-the-art (commercial and non-commercial) solvers. Optimization problems need to be formulated in AMPL or GAMS syntax. Results will be returned as Web pages."
   ]
  },
  {
   "cell_type": "markdown",
   "metadata": {},
   "source": [
    "With the above model and data as files *gas_ex.mod* and *gas_ex.dat*, an interaction with the CONOPT solver on NEOS would look like:\n",
    "\n",
    "```r\n",
    "require(rneos)\n",
    "# geting a template for category and solver\n",
    "temple <-NgetSolverTemplate(category = \"nco\", solvername = \"CONOPT\",\n",
    "                            inputMethod = \"AMPL\")\n",
    "# setting model and data file\n",
    "modf <- \"gas_ex.mod\"; datf <- \"gas_ex.dat\"\n",
    "modc <- paste(paste(readLines(modf), collapse = \"\\n\"), \"\\n\")\n",
    "datc <- paste(paste(readLines(datf), collapse = \"\\n\"), \"\\n\")\n",
    "\n",
    "# create list object\n",
    "argslist <- list(model = modc, data = datc,\n",
    "                 commands = \"\", comments = \"Gas example\")\n",
    "## create XML string\n",
    "xmlstring <- CreateXmlString(neosxml = temple, cdatalist = argslist)\n",
    "\n",
    "## submit job to the NEOS solver\n",
    "neosjob <- NsubmitJob(xmlstring, user = \"hwb\", interface = \"gas_ex\",\n",
    "                      id = 8237, nc = CreateNeosComm())\n",
    "neosjob\n",
    "# The job number is: 3838832 \n",
    "# The pass word is : wBgHomLT \n",
    "\n",
    "# getting info about job\n",
    "NgetJobInfo(neosjob)            # \"nco\"   \"MINOS\" \"AMPL\"  \"Done\" \n",
    "NgetFinalResults(neosjob)\n",
    "```"
   ]
  },
  {
   "cell_type": "markdown",
   "metadata": {},
   "source": [
    "The available NEOS solvers and the required modeling language(s) can be found on the following NEOS solvers page [**http://www.neos-server.org/neos/solvers/**](NEOS Solvers.html) at the University of Wisconsin *Institutes for Discovery*."
   ]
  }
 ],
 "metadata": {
  "kernelspec": {
   "display_name": "R",
   "language": "R",
   "name": "ir"
  },
  "language_info": {
   "codemirror_mode": "r",
   "file_extension": ".r",
   "mimetype": "text/x-r-source",
   "name": "R",
   "pygments_lexer": "r",
   "version": "3.4.2"
  }
 },
 "nbformat": 4,
 "nbformat_minor": 1
}
